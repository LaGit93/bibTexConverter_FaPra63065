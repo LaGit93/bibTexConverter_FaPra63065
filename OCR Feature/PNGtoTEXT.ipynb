{
 "cells": [
  {
   "cell_type": "code",
   "execution_count": 9,
   "id": "910f869f",
   "metadata": {},
   "outputs": [
    {
     "name": "stdout",
     "output_type": "stream",
     "text": [
      "Thema der Masterarbeit (24 ECTS-Punkte):\n",
      "\n",
      "Contributions to the Redox Chemistry of En Ligand Complexes (E = P, As) (Anerkennung:\n",
      "anderer Studiengang)\n",
      "\n",
      "Themensteller: Prof. Dr. Manfred Scheer\n",
      "\n"
     ]
    }
   ],
   "source": [
    "# pip install opencv-python\n",
    "import cv2\n",
    "\n",
    "# pip install pytesseract\n",
    "import pytesseract\n",
    "\n",
    "# Finde pytesseract auf dem Rechner (optional)\n",
    "pytesseract.pytesseract.tesseract_cmd = r'C:\\Programme\\Tesseract-OCR\\tesseract.exe'\n",
    "\n",
    "# Beispiel png\n",
    "img = cv2.imread(\"Beispiel4.png\")\n",
    "converted_text = pytesseract.image_to_string(img)\n",
    "\n",
    "print(converted_text)"
   ]
  },
  {
   "cell_type": "code",
   "execution_count": null,
   "id": "ca4878cd-eb8d-4d31-b5b4-cc7fe0c6948b",
   "metadata": {},
   "outputs": [],
   "source": []
  }
 ],
 "metadata": {
  "kernelspec": {
   "display_name": "Python 3 (ipykernel)",
   "language": "python",
   "name": "python3"
  },
  "language_info": {
   "codemirror_mode": {
    "name": "ipython",
    "version": 3
   },
   "file_extension": ".py",
   "mimetype": "text/x-python",
   "name": "python",
   "nbconvert_exporter": "python",
   "pygments_lexer": "ipython3",
   "version": "3.12.3"
  }
 },
 "nbformat": 4,
 "nbformat_minor": 5
}
